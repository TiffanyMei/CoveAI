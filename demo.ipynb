{
 "cells": [
  {
   "cell_type": "markdown",
   "id": "aeca0121-80ac-459a-8a5f-ef9865d2f372",
   "metadata": {},
   "source": [
    "# CoveAI Demo\n",
    "D. E. Shaw & Co. Case Study | Cove Technical Product Manager\\\n",
    "Tiffany Mei - Oct 2024"
   ]
  },
  {
   "cell_type": "markdown",
   "id": "269db0aa-dc13-47dc-adde-5fa3306f26f7",
   "metadata": {},
   "source": [
    "## Create CoveAI client"
   ]
  },
  {
   "cell_type": "code",
   "execution_count": 1,
   "id": "ce22d664-57a9-4825-b280-df24b48a691e",
   "metadata": {},
   "outputs": [],
   "source": [
    "from api import CoveAI\n",
    "\n",
    "client = CoveAI(llm_api=\"openai\")"
   ]
  },
  {
   "cell_type": "markdown",
   "id": "61316c6c-74af-4176-86fb-eb6f1522df60",
   "metadata": {},
   "source": [
    "## Profile a company using information from the website provided"
   ]
  },
  {
   "cell_type": "code",
   "execution_count": 2,
   "id": "1616b0d3-ba92-4de0-848d-b7b3550232ff",
   "metadata": {},
   "outputs": [
    {
     "name": "stdout",
     "output_type": "stream",
     "text": [
      "Crawling base_url='https://www.osmo.ai/', depth_limit=5\n",
      "https://www.osmo.ai/\n",
      "https://www.osmo.ai/about\n",
      "https://www.osmo.ai/solutions\n",
      "https://www.osmo.ai/research\n",
      "https://www.osmo.ai/blog-press\n",
      "reached depth limit\n",
      "Crawl took 3s\n",
      "Chat begins\n",
      "Chat took 4s\n"
     ]
    }
   ],
   "source": [
    "company = client.get_company_profile(url=\"https://www.osmo.ai/\", model=\"gpt-4o-mini\", crawl_depth_limit=5)"
   ]
  },
  {
   "cell_type": "code",
   "execution_count": 3,
   "id": "842b6e39-1925-4b64-877c-2ebb7da13c1f",
   "metadata": {},
   "outputs": [
    {
     "name": "stdout",
     "output_type": "stream",
     "text": [
      "{'description': 'Osmo is a pioneering technology company focused on digitizing '\n",
      "                'the sense of smell using AI. The company has developed a '\n",
      "                'platform that reads, maps, and writes scents, enabling '\n",
      "                'innovative applications in health, consumer products, and '\n",
      "                'threat detection. Founded by a team of experts from Google '\n",
      "                \"Research, Osmo's mission is to create new experiences and \"\n",
      "                'solutions around olfactory perception.',\n",
      " 'distressed': False,\n",
      " 'funding_stage': 'seed',\n",
      " 'headquarter_city': 'cambridge',\n",
      " 'headquarter_country': 'united states',\n",
      " 'headquarter_state': 'massachusetts',\n",
      " 'industry': ['technology', 'artificial intelligence', 'healthcare', 'sensors'],\n",
      " 'investors': ['Thomas Reardon',\n",
      "               'Rich Miner',\n",
      "               'Henry R. Kravis',\n",
      "               'Jeff Dean',\n",
      "               'Soumith Chintala',\n",
      "               'Hugo Barra',\n",
      "               'Moore Strategic Ventures',\n",
      "               'Bill & Melinda Gates Foundation',\n",
      "               'Alexa Fund',\n",
      "               'Arena Holdings',\n",
      "               'Two Sigma',\n",
      "               'Exor'],\n",
      " 'name': 'Osmo',\n",
      " 'num_employees': None,\n",
      " 'revenue': None,\n",
      " 'valuation': 8500000,\n",
      " 'website': 'https://osmo.ai'}\n"
     ]
    }
   ],
   "source": [
    "print(company)"
   ]
  },
  {
   "cell_type": "markdown",
   "id": "427a9e34-3632-43db-aa18-62a64f513e2f",
   "metadata": {},
   "source": [
    "## Find PE firms that would likely be interested in acquiring this company"
   ]
  },
  {
   "cell_type": "code",
   "execution_count": 4,
   "id": "05f51ef7-bc25-49e3-883b-f33dcbf33e0a",
   "metadata": {},
   "outputs": [
    {
     "name": "stdout",
     "output_type": "stream",
     "text": [
      "Chat begins\n",
      "Chat took 8s\n"
     ]
    }
   ],
   "source": [
    "matches = client.match_buyers(company=company, num_firms=3, reason_word_count=30)"
   ]
  },
  {
   "cell_type": "code",
   "execution_count": 5,
   "id": "2dd1b97f-8cd1-4212-85dc-3e198ea90c44",
   "metadata": {},
   "outputs": [
    {
     "name": "stdout",
     "output_type": "stream",
     "text": [
      "{'firm_name': 'KKR',\n",
      " 'reason_against': 'KKR typically prefers companies with at least $100 million '\n",
      "                   'in revenue, and Osmo is currently in the seed stage with '\n",
      "                   'no revenue reported.',\n",
      " 'reason_for': \"KKR's focus on technology and healthcare aligns with Osmo's \"\n",
      "               'innovative AI platform in health applications, presenting '\n",
      "               'potential for substantial growth.',\n",
      " 'score': 7}\n",
      "{'firm_name': 'TPG',\n",
      " 'reason_against': 'TPG generally targets companies with a minimum revenue of '\n",
      "                   '$60 million, which Osmo does not meet as its revenue is '\n",
      "                   'currently undefined.',\n",
      " 'reason_for': 'TPG invests in technology and healthcare sectors, making it a '\n",
      "               \"suitable match for Osmo's AI-driven health solutions that \"\n",
      "               'align with current industry trends.',\n",
      " 'score': 6}\n",
      "{'firm_name': 'Walburg Pincus',\n",
      " 'reason_against': \"Walburg Pincus capitalizes on larger investments; Osmo's \"\n",
      "                   'seed stage funding may not fit their investment strategy.',\n",
      " 'reason_for': 'Walburg Pincus has a keen interest in healthcare and '\n",
      "               \"technology, aligning with Osmo's application of AI in health \"\n",
      "               'and sensory technology.',\n",
      " 'score': 5}\n"
     ]
    }
   ],
   "source": [
    "for match in matches:\n",
    "    print(match)"
   ]
  },
  {
   "cell_type": "code",
   "execution_count": null,
   "id": "47d45042-4565-4da1-a0f2-f407e1f08565",
   "metadata": {},
   "outputs": [],
   "source": []
  }
 ],
 "metadata": {
  "kernelspec": {
   "display_name": "Python 3 (ipykernel)",
   "language": "python",
   "name": "python3"
  },
  "language_info": {
   "codemirror_mode": {
    "name": "ipython",
    "version": 3
   },
   "file_extension": ".py",
   "mimetype": "text/x-python",
   "name": "python",
   "nbconvert_exporter": "python",
   "pygments_lexer": "ipython3",
   "version": "3.12.3"
  }
 },
 "nbformat": 4,
 "nbformat_minor": 5
}
